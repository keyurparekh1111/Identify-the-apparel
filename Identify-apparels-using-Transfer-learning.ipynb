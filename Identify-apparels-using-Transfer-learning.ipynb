{
 "cells": [
  {
   "cell_type": "code",
   "execution_count": 1,
   "metadata": {},
   "outputs": [
    {
     "name": "stderr",
     "output_type": "stream",
     "text": [
      "Using TensorFlow backend.\n"
     ]
    }
   ],
   "source": [
    "\n",
    "import keras\n",
    "from keras.preprocessing.image import ImageDataGenerator, img_to_array, load_img \n",
    "from keras.models import Sequential \n",
    "from keras import optimizers\n",
    "from keras.preprocessing import image\n",
    "from keras.layers import Dropout, Flatten, Conv2D, Dense \n",
    "from keras import applications \n",
    "from keras.utils.np_utils import to_categorical \n",
    "import matplotlib.pyplot as plt \n",
    "import matplotlib.image as mpimg\n",
    "from keras.applications.vgg16 import preprocess_input\n",
    "import pandas as pd\n",
    "import numpy as np \n",
    "import itertools\n",
    "%matplotlib inline\n",
    "import math \n",
    "import datetime\n",
    "import time\n"
   ]
  },
  {
   "cell_type": "code",
   "execution_count": null,
   "metadata": {},
   "outputs": [],
   "source": [
    "# train_path='./train/'\n",
    "# test_path='./test/'\n",
    "\n",
    "\n",
    "# train_img=[]\n",
    "# for i in range(len(train)):\n",
    "\n",
    "#     temp_img=image.load_img(train_path+train['filename'][i],target_size=(224,224))\n",
    "\n",
    "#     temp_img=image.img_to_array(temp_img)\n",
    "\n",
    "#     train_img.append(temp_img)\n",
    "\n",
    "# #converting train images to array and applying mean subtraction processing\n",
    "\n",
    "# train_img=np.array(train_img)\n",
    "# train_img=preprocess_input(train_img)\n",
    "\n",
    "\n",
    "\n",
    "# test_img=[]\n",
    "# for i in range(len(test)):\n",
    "\n",
    "#     temp_img=image.load_img(test_path+test['filename'][i],target_size=(224,224))\n",
    "\n",
    "#     temp_img=image.img_to_array(temp_img)\n",
    "\n",
    "#     test_img.append(temp_img)\n",
    "\n",
    "# test_img=np.array(test_img)\n",
    "# test_img=preprocess_input(test_img)"
   ]
  },
  {
   "cell_type": "code",
   "execution_count": 2,
   "metadata": {},
   "outputs": [],
   "source": [
    "\n",
    "\n",
    "#Create a bottleneck file\n",
    "top_model_weights_path = 'bottleneck_fc_model_101.h5'\n",
    "\n",
    "traindf = pd.read_csv('./train.csv',dtype=\"str\")\n",
    "testdf=pd.read_csv('./test.csv',dtype=\"str\")\n",
    "\n"
   ]
  },
  {
   "cell_type": "code",
   "execution_count": 3,
   "metadata": {},
   "outputs": [],
   "source": [
    "def append_ext(fn):\n",
    "    return fn+\".png\"\n",
    "\n",
    "traindf[\"id\"]=traindf[\"id\"].apply(append_ext)\n",
    "testdf[\"id\"]=testdf[\"id\"].apply(append_ext)"
   ]
  },
  {
   "cell_type": "code",
   "execution_count": 4,
   "metadata": {},
   "outputs": [
    {
     "name": "stdout",
     "output_type": "stream",
     "text": [
      "Found 60000 validated image filenames belonging to 10 classes.\n",
      "Found 10000 validated image filenames.\n"
     ]
    }
   ],
   "source": [
    "train_data = ImageDataGenerator(rescale=1./255,preprocessing_function=preprocess_input).flow_from_dataframe(dataframe=traindf, directory=\"./train/\", x_col=\"id\",y_col=\"label\", batch_size=128,target_size=(32,32))\n",
    "# test_data = ImageDataGenerator(rescale=1./255,preprocessing_function=preprocess_input).flow_from_dataframe(dataframe=testdf, directory=\"./test/\", x_col=\"id\",y_col= None, batch_size=32,target_size=(32,32),class_mode=None)\n"
   ]
  },
  {
   "cell_type": "code",
   "execution_count": 4,
   "metadata": {},
   "outputs": [],
   "source": [
    "img_width, img_height = 224,224\n",
    "vgg16 = applications.VGG16(include_top=False, weights='imagenet',input_shape=(img_width, img_height,3))\n"
   ]
  },
  {
   "cell_type": "code",
   "execution_count": 5,
   "metadata": {},
   "outputs": [
    {
     "name": "stdout",
     "output_type": "stream",
     "text": [
      "Model: \"vgg16\"\n",
      "_________________________________________________________________\n",
      "Layer (type)                 Output Shape              Param #   \n",
      "=================================================================\n",
      "input_1 (InputLayer)         (None, 224, 224, 3)       0         \n",
      "_________________________________________________________________\n",
      "block1_conv1 (Conv2D)        (None, 224, 224, 64)      1792      \n",
      "_________________________________________________________________\n",
      "block1_conv2 (Conv2D)        (None, 224, 224, 64)      36928     \n",
      "_________________________________________________________________\n",
      "block1_pool (MaxPooling2D)   (None, 112, 112, 64)      0         \n",
      "_________________________________________________________________\n",
      "block2_conv1 (Conv2D)        (None, 112, 112, 128)     73856     \n",
      "_________________________________________________________________\n",
      "block2_conv2 (Conv2D)        (None, 112, 112, 128)     147584    \n",
      "_________________________________________________________________\n",
      "block2_pool (MaxPooling2D)   (None, 56, 56, 128)       0         \n",
      "_________________________________________________________________\n",
      "block3_conv1 (Conv2D)        (None, 56, 56, 256)       295168    \n",
      "_________________________________________________________________\n",
      "block3_conv2 (Conv2D)        (None, 56, 56, 256)       590080    \n",
      "_________________________________________________________________\n",
      "block3_conv3 (Conv2D)        (None, 56, 56, 256)       590080    \n",
      "_________________________________________________________________\n",
      "block3_pool (MaxPooling2D)   (None, 28, 28, 256)       0         \n",
      "_________________________________________________________________\n",
      "block4_conv1 (Conv2D)        (None, 28, 28, 512)       1180160   \n",
      "_________________________________________________________________\n",
      "block4_conv2 (Conv2D)        (None, 28, 28, 512)       2359808   \n",
      "_________________________________________________________________\n",
      "block4_conv3 (Conv2D)        (None, 28, 28, 512)       2359808   \n",
      "_________________________________________________________________\n",
      "block4_pool (MaxPooling2D)   (None, 14, 14, 512)       0         \n",
      "_________________________________________________________________\n",
      "block5_conv1 (Conv2D)        (None, 14, 14, 512)       2359808   \n",
      "_________________________________________________________________\n",
      "block5_conv2 (Conv2D)        (None, 14, 14, 512)       2359808   \n",
      "_________________________________________________________________\n",
      "block5_conv3 (Conv2D)        (None, 14, 14, 512)       2359808   \n",
      "_________________________________________________________________\n",
      "block5_pool (MaxPooling2D)   (None, 7, 7, 512)         0         \n",
      "=================================================================\n",
      "Total params: 14,714,688\n",
      "Trainable params: 14,714,688\n",
      "Non-trainable params: 0\n",
      "_________________________________________________________________\n"
     ]
    }
   ],
   "source": [
    "vgg16.summary()"
   ]
  },
  {
   "cell_type": "code",
   "execution_count": 7,
   "metadata": {},
   "outputs": [
    {
     "name": "stdout",
     "output_type": "stream",
     "text": [
      "Found 60000 validated image filenames.\n",
      "60000\n",
      "1875\n"
     ]
    }
   ],
   "source": [
    "batch_size=32\n",
    "train_data = ImageDataGenerator(rescale=1./255,preprocessing_function=preprocess_input).flow_from_dataframe(dataframe=traindf, directory=\"./train/\",\n",
    "                                          x_col=\"id\",y_col=\"label\", batch_size=32,target_size=(img_width, img_height),\n",
    "                                         class_mode=None,shuffle=False)\n",
    "\n",
    "nb_train_samples = len(train_data.filenames)\n",
    "print(nb_train_samples)\n",
    " \n",
    "predict_size_train = int(math.ceil(nb_train_samples / batch_size))\n",
    "print(predict_size_train)"
   ]
  },
  {
   "cell_type": "code",
   "execution_count": 8,
   "metadata": {},
   "outputs": [
    {
     "name": "stdout",
     "output_type": "stream",
     "text": [
      "Time: 2:04:11.041172\n"
     ]
    }
   ],
   "source": [
    "start = datetime.datetime.now()\n",
    "\n",
    " \n",
    "\n",
    "bottleneck_features_train= vgg16.predict_generator(train_data, predict_size_train) \n",
    " \n",
    "np.save('bottleneck_features_train_101.npy', bottleneck_features_train)\n",
    "end= datetime.datetime.now()\n",
    "elapsed= end-start\n",
    "print ('Time:', elapsed)"
   ]
  },
  {
   "cell_type": "code",
   "execution_count": 9,
   "metadata": {},
   "outputs": [
    {
     "name": "stdout",
     "output_type": "stream",
     "text": [
      "Found 60000 validated image filenames belonging to 10 classes.\n"
     ]
    }
   ],
   "source": [
    "train_data_top = ImageDataGenerator(rescale=1./255,preprocessing_function=preprocess_input).flow_from_dataframe(dataframe=traindf, directory=\"./train/\",\n",
    "                                         x_col=\"id\",y_col=\"label\", batch_size=batch_size,target_size=(img_width, img_height),\n",
    "                                        class_mode='categorical',shuffle=False)\n",
    "    \n",
    "nb_train_samples = len(train_data_top.filenames) \n",
    "num_classes = len(train_data_top.class_indices) \n",
    " \n",
    "# load the bottleneck features saved earlier \n",
    "train_data = np.load('bottleneck_features_train_101.npy') \n",
    "\n",
    "# get the class labels for the training data, in the original order \n",
    "train_labels = train_data_top.classes \n",
    " \n",
    "# get the class labels for the training data, in the original order \n",
    "train_labels = to_categorical(train_labels, num_classes=num_classes)\n",
    " "
   ]
  },
  {
   "cell_type": "code",
   "execution_count": 13,
   "metadata": {},
   "outputs": [
    {
     "name": "stdout",
     "output_type": "stream",
     "text": [
      "Epoch 1/20\n",
      "60000/60000 [==============================] - 193s 3ms/step - loss: 0.5074 - acc: 0.8219\n",
      "Epoch 2/20\n",
      "60000/60000 [==============================] - 192s 3ms/step - loss: 0.3573 - acc: 0.8728\n",
      "Epoch 3/20\n",
      "60000/60000 [==============================] - 192s 3ms/step - loss: 0.3165 - acc: 0.8875\n",
      "Epoch 4/20\n",
      "60000/60000 [==============================] - 191s 3ms/step - loss: 0.2900 - acc: 0.8977\n",
      "Epoch 5/20\n",
      "60000/60000 [==============================] - 191s 3ms/step - loss: 0.2723 - acc: 0.9020\n",
      "Epoch 6/20\n",
      "60000/60000 [==============================] - 191s 3ms/step - loss: 0.2596 - acc: 0.9074\n",
      "Epoch 7/20\n",
      "60000/60000 [==============================] - 190s 3ms/step - loss: 0.2508 - acc: 0.9093\n",
      "Epoch 8/20\n",
      "60000/60000 [==============================] - 190s 3ms/step - loss: 0.2355 - acc: 0.9144\n",
      "Epoch 9/20\n",
      "60000/60000 [==============================] - 190s 3ms/step - loss: 0.2276 - acc: 0.9179\n",
      "Epoch 10/20\n",
      "60000/60000 [==============================] - 189s 3ms/step - loss: 0.2202 - acc: 0.9198\n",
      "Epoch 11/20\n",
      "60000/60000 [==============================] - 189s 3ms/step - loss: 0.2125 - acc: 0.9222\n",
      "Epoch 12/20\n",
      "60000/60000 [==============================] - 190s 3ms/step - loss: 0.2058 - acc: 0.9248\n",
      "Epoch 13/20\n",
      "60000/60000 [==============================] - 190s 3ms/step - loss: 0.1983 - acc: 0.9269\n",
      "Epoch 14/20\n",
      "60000/60000 [==============================] - 189s 3ms/step - loss: 0.1931 - acc: 0.9294\n",
      "Epoch 15/20\n",
      "60000/60000 [==============================] - 191s 3ms/step - loss: 0.1866 - acc: 0.9317\n",
      "Epoch 16/20\n",
      "60000/60000 [==============================] - 192s 3ms/step - loss: 0.1822 - acc: 0.9323\n",
      "Epoch 17/20\n",
      "60000/60000 [==============================] - 191s 3ms/step - loss: 0.1772 - acc: 0.9342\n",
      "Epoch 18/20\n",
      "60000/60000 [==============================] - 191s 3ms/step - loss: 0.1711 - acc: 0.9376\n",
      "Epoch 19/20\n",
      "60000/60000 [==============================] - 189s 3ms/step - loss: 0.1682 - acc: 0.9379\n",
      "Epoch 20/20\n",
      "60000/60000 [==============================] - 189s 3ms/step - loss: 0.1637 - acc: 0.9392\n",
      "Time: 1:03:33.328355\n"
     ]
    }
   ],
   "source": [
    "from keras.layers import BatchNormalization\n",
    "from keras.layers import Activation, Dense,GlobalAveragePooling2D,LeakyReLU\n",
    "from keras.layers import Dropout\n",
    "from keras.models import Model\n",
    "\n",
    "start = datetime.datetime.now()\n",
    "model = Sequential()\n",
    "\n",
    "# model.add(Conv2D(input_shape=train_data.shape[1:],filters=600,kernel_size=(3,3),padding=\"same\"))\n",
    "# model.add(BatchNormalization())          \n",
    "# model.add(Activation('relu'))\n",
    "# model.add(Conv2D(filters=600,kernel_size=(3,3),padding=\"same\"))\n",
    "# model.add(BatchNormalization())          \n",
    "# model.add(Activation('relu'))\n",
    "# model.add(Conv2D(filters=600,kernel_size=(3,3),padding=\"same\"))\n",
    "# model.add(BatchNormalization())          \n",
    "# model.add(Activation('relu'))\n",
    "\n",
    "\n",
    "model.add(Flatten())\n",
    "model.add(Dense(250))\n",
    "model.add(LeakyReLU(alpha=0.3)) \n",
    "model.add(Dropout(0.5)) \n",
    "model.add(Dense(100)) \n",
    "model.add(LeakyReLU(alpha=0.3))\n",
    "model.add(Dropout(0.3)) \n",
    "model.add(Dense(num_classes, activation='softmax'))\n",
    "\n",
    "\n",
    "\n",
    "\n",
    "\n",
    "model.compile(loss='categorical_crossentropy',\n",
    "   optimizer=optimizers.Adam(lr=1e-4),\n",
    "   metrics=['acc'])\n",
    "history = model.fit(train_data, train_labels, \n",
    "   epochs=20,\n",
    "   batch_size=32)\n",
    "\n",
    "model.save_weights(top_model_weights_path)\n",
    "\n",
    "end= datetime.datetime.now()\n",
    "elapsed= end-start\n",
    "print ('Time:', elapsed)"
   ]
  },
  {
   "cell_type": "code",
   "execution_count": 14,
   "metadata": {},
   "outputs": [
    {
     "name": "stdout",
     "output_type": "stream",
     "text": [
      "Saved model to disk\n"
     ]
    }
   ],
   "source": [
    "from keras.models import model_from_json\n",
    "\n",
    "model_json = model.to_json()\n",
    "with open(\"model.json\", \"w\") as json_file:\n",
    "    json_file.write(model_json)\n",
    "# serialize weights to HDF5\n",
    "model.save_weights(\"model_101.h5\")\n",
    "print(\"Saved model to disk\")"
   ]
  },
  {
   "cell_type": "code",
   "execution_count": 34,
   "metadata": {},
   "outputs": [
    {
     "name": "stdout",
     "output_type": "stream",
     "text": [
      "Found 10000 validated image filenames.\n",
      "Time: 0:00:41.890111\n"
     ]
    }
   ],
   "source": [
    "test_data = ImageDataGenerator(rescale=1./255,preprocessing_function=preprocess_input).flow_from_dataframe(dataframe=testdf, directory=\"./test/\", x_col=\"id\",y_col= None, batch_size=128,target_size=(img_width, img_height),class_mode=None,shuffle=False)\n",
    "\n",
    "nb_test_samples = len(test_data.filenames) \n",
    "predict_size_test = int(math.ceil(nb_test_samples / 128))\n",
    "\n",
    "start = datetime.datetime.now()\n",
    "\n",
    "\n",
    "bottleneck_features_test= vgg16.predict_generator(test_data, predict_size_test) \n",
    " \n",
    "np.save('bottleneck_features_test.npy', bottleneck_features_test)\n",
    "\n",
    "end= datetime.datetime.now()\n",
    "elapsed= end-start\n",
    "print ('Time:', elapsed)"
   ]
  },
  {
   "cell_type": "code",
   "execution_count": 37,
   "metadata": {},
   "outputs": [
    {
     "name": "stdout",
     "output_type": "stream",
     "text": [
      "Found 10000 validated image filenames.\n"
     ]
    }
   ],
   "source": [
    "#test data\n",
    "test_data_top = ImageDataGenerator(\n",
    "    rescale=1./255,preprocessing_function=preprocess_input).flow_from_dataframe(dataframe=testdf,\n",
    "    directory=\"./test/\", x_col=\"id\",y_col= None, batch_size=128,target_size=(img_width, img_height),\n",
    "                                                                                class_mode=None,shuffle=False)\n",
    " \n",
    "nb_test_samples = len(test_data_top.filenames) \n",
    " \n",
    "# load the bottleneck features saved earlier \n",
    "test_data = np.load('bottleneck_features_test.npy') \n",
    " \n",
    "# # get the class labels for the training data, in the original order \n",
    "# test_labels = test_data_top.classes \n",
    " \n",
    "# # convert the training labels to categorical vectors \n",
    "# test_labels = to_categorical(test_labels, num_classes=num_classes)"
   ]
  },
  {
   "cell_type": "code",
   "execution_count": 39,
   "metadata": {},
   "outputs": [
    {
     "ename": "ValueError",
     "evalue": "Error when checking input: expected conv2d_14_input to have shape (1, 1, 512) but got array with shape (32, 32, 3)",
     "output_type": "error",
     "traceback": [
      "\u001b[1;31m---------------------------------------------------------------------------\u001b[0m",
      "\u001b[1;31mValueError\u001b[0m                                Traceback (most recent call last)",
      "\u001b[1;32m<ipython-input-39-d6eef9105ba1>\u001b[0m in \u001b[0;36m<module>\u001b[1;34m\u001b[0m\n\u001b[0;32m      4\u001b[0m pred=model.predict_generator(test_data_top,\n\u001b[0;32m      5\u001b[0m \u001b[0msteps\u001b[0m\u001b[1;33m=\u001b[0m\u001b[0mpredict_size_test\u001b[0m\u001b[1;33m,\u001b[0m\u001b[1;33m\u001b[0m\u001b[0m\n\u001b[1;32m----> 6\u001b[1;33m verbose=1)\n\u001b[0m",
      "\u001b[1;32mc:\\users\\keyur\\appdata\\local\\programs\\python\\python36\\lib\\site-packages\\keras\\legacy\\interfaces.py\u001b[0m in \u001b[0;36mwrapper\u001b[1;34m(*args, **kwargs)\u001b[0m\n\u001b[0;32m     89\u001b[0m                 warnings.warn('Update your `' + object_name + '` call to the ' +\n\u001b[0;32m     90\u001b[0m                               'Keras 2 API: ' + signature, stacklevel=2)\n\u001b[1;32m---> 91\u001b[1;33m             \u001b[1;32mreturn\u001b[0m \u001b[0mfunc\u001b[0m\u001b[1;33m(\u001b[0m\u001b[1;33m*\u001b[0m\u001b[0margs\u001b[0m\u001b[1;33m,\u001b[0m \u001b[1;33m**\u001b[0m\u001b[0mkwargs\u001b[0m\u001b[1;33m)\u001b[0m\u001b[1;33m\u001b[0m\u001b[0m\n\u001b[0m\u001b[0;32m     92\u001b[0m         \u001b[0mwrapper\u001b[0m\u001b[1;33m.\u001b[0m\u001b[0m_original_function\u001b[0m \u001b[1;33m=\u001b[0m \u001b[0mfunc\u001b[0m\u001b[1;33m\u001b[0m\u001b[0m\n\u001b[0;32m     93\u001b[0m         \u001b[1;32mreturn\u001b[0m \u001b[0mwrapper\u001b[0m\u001b[1;33m\u001b[0m\u001b[0m\n",
      "\u001b[1;32mc:\\users\\keyur\\appdata\\local\\programs\\python\\python36\\lib\\site-packages\\keras\\engine\\training.py\u001b[0m in \u001b[0;36mpredict_generator\u001b[1;34m(self, generator, steps, callbacks, max_queue_size, workers, use_multiprocessing, verbose)\u001b[0m\n\u001b[0;32m   1844\u001b[0m             \u001b[0mworkers\u001b[0m\u001b[1;33m=\u001b[0m\u001b[0mworkers\u001b[0m\u001b[1;33m,\u001b[0m\u001b[1;33m\u001b[0m\u001b[0m\n\u001b[0;32m   1845\u001b[0m             \u001b[0muse_multiprocessing\u001b[0m\u001b[1;33m=\u001b[0m\u001b[0muse_multiprocessing\u001b[0m\u001b[1;33m,\u001b[0m\u001b[1;33m\u001b[0m\u001b[0m\n\u001b[1;32m-> 1846\u001b[1;33m             verbose=verbose)\n\u001b[0m\u001b[0;32m   1847\u001b[0m \u001b[1;33m\u001b[0m\u001b[0m\n\u001b[0;32m   1848\u001b[0m \u001b[1;33m\u001b[0m\u001b[0m\n",
      "\u001b[1;32mc:\\users\\keyur\\appdata\\local\\programs\\python\\python36\\lib\\site-packages\\keras\\engine\\training_generator.py\u001b[0m in \u001b[0;36mpredict_generator\u001b[1;34m(model, generator, steps, callbacks, max_queue_size, workers, use_multiprocessing, verbose)\u001b[0m\n\u001b[0;32m    525\u001b[0m             \u001b[0mcallbacks\u001b[0m\u001b[1;33m.\u001b[0m\u001b[0m_call_batch_hook\u001b[0m\u001b[1;33m(\u001b[0m\u001b[1;34m'predict'\u001b[0m\u001b[1;33m,\u001b[0m \u001b[1;34m'begin'\u001b[0m\u001b[1;33m,\u001b[0m \u001b[0msteps_done\u001b[0m\u001b[1;33m,\u001b[0m \u001b[0mbatch_logs\u001b[0m\u001b[1;33m)\u001b[0m\u001b[1;33m\u001b[0m\u001b[0m\n\u001b[0;32m    526\u001b[0m \u001b[1;33m\u001b[0m\u001b[0m\n\u001b[1;32m--> 527\u001b[1;33m             \u001b[0mouts\u001b[0m \u001b[1;33m=\u001b[0m \u001b[0mmodel\u001b[0m\u001b[1;33m.\u001b[0m\u001b[0mpredict_on_batch\u001b[0m\u001b[1;33m(\u001b[0m\u001b[0mx\u001b[0m\u001b[1;33m)\u001b[0m\u001b[1;33m\u001b[0m\u001b[0m\n\u001b[0m\u001b[0;32m    528\u001b[0m             \u001b[0mouts\u001b[0m \u001b[1;33m=\u001b[0m \u001b[0mto_list\u001b[0m\u001b[1;33m(\u001b[0m\u001b[0mouts\u001b[0m\u001b[1;33m)\u001b[0m\u001b[1;33m\u001b[0m\u001b[0m\n\u001b[0;32m    529\u001b[0m \u001b[1;33m\u001b[0m\u001b[0m\n",
      "\u001b[1;32mc:\\users\\keyur\\appdata\\local\\programs\\python\\python36\\lib\\site-packages\\keras\\engine\\training.py\u001b[0m in \u001b[0;36mpredict_on_batch\u001b[1;34m(self, x)\u001b[0m\n\u001b[0;32m   1572\u001b[0m             \u001b[0mNumpy\u001b[0m \u001b[0marray\u001b[0m\u001b[1;33m(\u001b[0m\u001b[0ms\u001b[0m\u001b[1;33m)\u001b[0m \u001b[0mof\u001b[0m \u001b[0mpredictions\u001b[0m\u001b[1;33m.\u001b[0m\u001b[1;33m\u001b[0m\u001b[0m\n\u001b[0;32m   1573\u001b[0m         \"\"\"\n\u001b[1;32m-> 1574\u001b[1;33m         \u001b[0mx\u001b[0m\u001b[1;33m,\u001b[0m \u001b[0m_\u001b[0m\u001b[1;33m,\u001b[0m \u001b[0m_\u001b[0m \u001b[1;33m=\u001b[0m \u001b[0mself\u001b[0m\u001b[1;33m.\u001b[0m\u001b[0m_standardize_user_data\u001b[0m\u001b[1;33m(\u001b[0m\u001b[0mx\u001b[0m\u001b[1;33m)\u001b[0m\u001b[1;33m\u001b[0m\u001b[0m\n\u001b[0m\u001b[0;32m   1575\u001b[0m         \u001b[1;32mif\u001b[0m \u001b[0mself\u001b[0m\u001b[1;33m.\u001b[0m\u001b[0m_uses_dynamic_learning_phase\u001b[0m\u001b[1;33m(\u001b[0m\u001b[1;33m)\u001b[0m\u001b[1;33m:\u001b[0m\u001b[1;33m\u001b[0m\u001b[0m\n\u001b[0;32m   1576\u001b[0m             \u001b[0mins\u001b[0m \u001b[1;33m=\u001b[0m \u001b[0mx\u001b[0m \u001b[1;33m+\u001b[0m \u001b[1;33m[\u001b[0m\u001b[1;36m0\u001b[0m\u001b[1;33m]\u001b[0m\u001b[1;33m\u001b[0m\u001b[0m\n",
      "\u001b[1;32mc:\\users\\keyur\\appdata\\local\\programs\\python\\python36\\lib\\site-packages\\keras\\engine\\training.py\u001b[0m in \u001b[0;36m_standardize_user_data\u001b[1;34m(self, x, y, sample_weight, class_weight, check_array_lengths, batch_size)\u001b[0m\n\u001b[0;32m    577\u001b[0m             \u001b[0mfeed_input_shapes\u001b[0m\u001b[1;33m,\u001b[0m\u001b[1;33m\u001b[0m\u001b[0m\n\u001b[0;32m    578\u001b[0m             \u001b[0mcheck_batch_axis\u001b[0m\u001b[1;33m=\u001b[0m\u001b[1;32mFalse\u001b[0m\u001b[1;33m,\u001b[0m  \u001b[1;31m# Don't enforce the batch size.\u001b[0m\u001b[1;33m\u001b[0m\u001b[0m\n\u001b[1;32m--> 579\u001b[1;33m             exception_prefix='input')\n\u001b[0m\u001b[0;32m    580\u001b[0m \u001b[1;33m\u001b[0m\u001b[0m\n\u001b[0;32m    581\u001b[0m         \u001b[1;32mif\u001b[0m \u001b[0my\u001b[0m \u001b[1;32mis\u001b[0m \u001b[1;32mnot\u001b[0m \u001b[1;32mNone\u001b[0m\u001b[1;33m:\u001b[0m\u001b[1;33m\u001b[0m\u001b[0m\n",
      "\u001b[1;32mc:\\users\\keyur\\appdata\\local\\programs\\python\\python36\\lib\\site-packages\\keras\\engine\\training_utils.py\u001b[0m in \u001b[0;36mstandardize_input_data\u001b[1;34m(data, names, shapes, check_batch_axis, exception_prefix)\u001b[0m\n\u001b[0;32m    143\u001b[0m                             \u001b[1;34m': expected '\u001b[0m \u001b[1;33m+\u001b[0m \u001b[0mnames\u001b[0m\u001b[1;33m[\u001b[0m\u001b[0mi\u001b[0m\u001b[1;33m]\u001b[0m \u001b[1;33m+\u001b[0m \u001b[1;34m' to have shape '\u001b[0m \u001b[1;33m+\u001b[0m\u001b[1;33m\u001b[0m\u001b[0m\n\u001b[0;32m    144\u001b[0m                             \u001b[0mstr\u001b[0m\u001b[1;33m(\u001b[0m\u001b[0mshape\u001b[0m\u001b[1;33m)\u001b[0m \u001b[1;33m+\u001b[0m \u001b[1;34m' but got array with shape '\u001b[0m \u001b[1;33m+\u001b[0m\u001b[1;33m\u001b[0m\u001b[0m\n\u001b[1;32m--> 145\u001b[1;33m                             str(data_shape))\n\u001b[0m\u001b[0;32m    146\u001b[0m     \u001b[1;32mreturn\u001b[0m \u001b[0mdata\u001b[0m\u001b[1;33m\u001b[0m\u001b[0m\n\u001b[0;32m    147\u001b[0m \u001b[1;33m\u001b[0m\u001b[0m\n",
      "\u001b[1;31mValueError\u001b[0m: Error when checking input: expected conv2d_14_input to have shape (1, 1, 512) but got array with shape (32, 32, 3)"
     ]
    }
   ],
   "source": [
    "# nb_test_samples = len(test_data.filenames) \n",
    "# predict_size_test = int(math.ceil(nb_test_samples / 128))\n",
    "\n",
    "def test_single_image(path):\n",
    "  classs = ['0','1','2','3','4','5','6','7','8','9']\n",
    "  images = read_image(path)\n",
    "  time.sleep(.5)\n",
    "  bt_prediction = vgg16.predict(images) \n",
    "  preds = model.predict_proba(bt_prediction)\n",
    "  for idx, animal, x in zip(range(0,10), animals , preds[0]):\n",
    "   print(“ID: {}, Label: {} {}%”.format(idx, animal, round(x*100,2) ))\n",
    "  print(‘Final Decision:’)\n",
    "  time.sleep(.5)\n",
    "  for x in range(3):\n",
    "   print(‘.’*(x+1))\n",
    "   time.sleep(.2)\n",
    "  class_predicted = model.predict_classes(bt_prediction)\n",
    "  class_dictionary = _top.class_indices \n",
    "  inv_map = {v: k for k, v in class_dictionary.items()} \n",
    "  print(“ID: {}, Label: {}”.format(class_predicted[0],  inv_map[class_predicted[0]])) \n",
    "  return load_img(path)\n",
    "\n",
    "\n",
    "path = './test/'\n",
    "test_single_image(path)"
   ]
  },
  {
   "cell_type": "code",
   "execution_count": 7,
   "metadata": {},
   "outputs": [
    {
     "name": "stdout",
     "output_type": "stream",
     "text": [
      "Found 0 images belonging to 0 classes.\n"
     ]
    }
   ],
   "source": [
    "test_generator = ImageDataGenerator(rescale=1./255.).flow_from_directory(\n",
    "    directory=\"./test/\",\n",
    "    target_size=(32,32),\n",
    "    batch_size=128,\n",
    "    class_mode=None,\n",
    "    shuffle=False\n",
    "    \n",
    ")"
   ]
  },
  {
   "cell_type": "code",
   "execution_count": 13,
   "metadata": {},
   "outputs": [
    {
     "name": "stdout",
     "output_type": "stream",
     "text": [
      "Saved model to disk\n"
     ]
    }
   ],
   "source": [
    "from keras.models import model_from_json\n",
    "\n",
    "model_json = model.to_json()\n",
    "with open(\"model.json\", \"w\") as json_file:\n",
    "    json_file.write(model_json)\n",
    "# serialize weights to HDF5\n",
    "model.save_weights(\"model.h5\")\n",
    "print(\"Saved model to disk\")"
   ]
  },
  {
   "cell_type": "code",
   "execution_count": null,
   "metadata": {},
   "outputs": [],
   "source": []
  }
 ],
 "metadata": {
  "kernelspec": {
   "display_name": "Python 3",
   "language": "python",
   "name": "python3"
  },
  "language_info": {
   "codemirror_mode": {
    "name": "ipython",
    "version": 3
   },
   "file_extension": ".py",
   "mimetype": "text/x-python",
   "name": "python",
   "nbconvert_exporter": "python",
   "pygments_lexer": "ipython3",
   "version": "3.6.3rc1"
  }
 },
 "nbformat": 4,
 "nbformat_minor": 4
}
